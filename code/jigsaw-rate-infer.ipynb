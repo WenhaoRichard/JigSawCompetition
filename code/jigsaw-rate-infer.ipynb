{
 "cells": [
  {
   "cell_type": "code",
   "execution_count": 1,
   "id": "labeled-irish",
   "metadata": {
    "_kg_hide-input": true,
    "execution": {
     "iopub.execute_input": "2022-01-30T05:03:40.079242Z",
     "iopub.status.busy": "2022-01-30T05:03:40.078439Z",
     "iopub.status.idle": "2022-01-30T05:03:48.353390Z",
     "shell.execute_reply": "2022-01-30T05:03:48.352624Z"
    },
    "papermill": {
     "duration": 8.320066,
     "end_time": "2022-01-30T05:03:48.353586",
     "exception": false,
     "start_time": "2022-01-30T05:03:40.033520",
     "status": "completed"
    },
    "tags": []
   },
   "outputs": [],
   "source": [
    "import os\n",
    "import math\n",
    "import random\n",
    "import time\n",
    "import glob\n",
    "import numpy as np\n",
    "import pandas as pd\n",
    "\n",
    "import torch\n",
    "import torch.nn as nn\n",
    "from torch.utils.data import Dataset\n",
    "from torch.utils.data import DataLoader\n",
    "import torch.nn.functional as F\n",
    "\n",
    "from transformers import AdamW\n",
    "from transformers import AutoTokenizer\n",
    "from transformers import AutoModel\n",
    "from transformers import AutoConfig\n",
    "from transformers import get_cosine_schedule_with_warmup\n",
    "\n",
    "from sklearn.model_selection import KFold\n",
    "\n",
    "import gc\n",
    "gc.enable()"
   ]
  },
  {
   "cell_type": "code",
   "execution_count": 2,
   "id": "significant-security",
   "metadata": {
    "execution": {
     "iopub.execute_input": "2022-01-30T05:03:48.432703Z",
     "iopub.status.busy": "2022-01-30T05:03:48.431606Z",
     "iopub.status.idle": "2022-01-30T05:03:48.434393Z",
     "shell.execute_reply": "2022-01-30T05:03:48.434952Z"
    },
    "papermill": {
     "duration": 0.067209,
     "end_time": "2022-01-30T05:03:48.435196",
     "exception": false,
     "start_time": "2022-01-30T05:03:48.367987",
     "status": "completed"
    },
    "tags": []
   },
   "outputs": [],
   "source": [
    "NUM_FOLDS = 5\n",
    "BATCH_SIZE = 8\n",
    "MAX_LEN = 256\n",
    "\n",
    "DEVICE = \"cuda\" if torch.cuda.is_available() else \"cpu\""
   ]
  },
  {
   "cell_type": "code",
   "execution_count": 3,
   "id": "demonstrated-orchestra",
   "metadata": {
    "execution": {
     "iopub.execute_input": "2022-01-30T05:03:48.469002Z",
     "iopub.status.busy": "2022-01-30T05:03:48.468004Z",
     "iopub.status.idle": "2022-01-30T05:03:48.471075Z",
     "shell.execute_reply": "2022-01-30T05:03:48.471724Z"
    },
    "papermill": {
     "duration": 0.023446,
     "end_time": "2022-01-30T05:03:48.471877",
     "exception": false,
     "start_time": "2022-01-30T05:03:48.448431",
     "status": "completed"
    },
    "tags": []
   },
   "outputs": [],
   "source": [
    "def set_random_seed(random_seed):\n",
    "    random.seed(random_seed)\n",
    "    np.random.seed(random_seed)\n",
    "    os.environ[\"PYTHONHASHSEED\"] = str(random_seed)\n",
    "\n",
    "    torch.manual_seed(random_seed)\n",
    "    torch.cuda.manual_seed(random_seed)\n",
    "    torch.cuda.manual_seed_all(random_seed)\n",
    "\n",
    "    torch.backends.cudnn.deterministic = True"
   ]
  },
  {
   "cell_type": "code",
   "execution_count": 4,
   "id": "chinese-eleven",
   "metadata": {
    "execution": {
     "iopub.execute_input": "2022-01-30T05:03:48.504952Z",
     "iopub.status.busy": "2022-01-30T05:03:48.504237Z",
     "iopub.status.idle": "2022-01-30T05:03:48.593213Z",
     "shell.execute_reply": "2022-01-30T05:03:48.592633Z"
    },
    "papermill": {
     "duration": 0.10806,
     "end_time": "2022-01-30T05:03:48.593378",
     "exception": false,
     "start_time": "2022-01-30T05:03:48.485318",
     "status": "completed"
    },
    "tags": []
   },
   "outputs": [],
   "source": [
    "test_df = pd.read_csv(\"../input/jigsaw-toxic-severity-rating/comments_to_score.csv\")\n",
    "submission_df = pd.read_csv(\"../input/jigsaw-toxic-severity-rating/sample_submission.csv\")\n",
    "if len(submission_df) == 7537:\n",
    "    test_df = test_df.head(15)\n",
    "    submission_df = submission_df.head(15)"
   ]
  },
  {
   "cell_type": "markdown",
   "id": "clinical-implementation",
   "metadata": {
    "papermill": {
     "duration": 0.013104,
     "end_time": "2022-01-30T05:03:48.620062",
     "exception": false,
     "start_time": "2022-01-30T05:03:48.606958",
     "status": "completed"
    },
    "tags": []
   },
   "source": [
    "# Dataset"
   ]
  },
  {
   "cell_type": "code",
   "execution_count": 5,
   "id": "unavailable-bonus",
   "metadata": {
    "execution": {
     "iopub.execute_input": "2022-01-30T05:03:48.655821Z",
     "iopub.status.busy": "2022-01-30T05:03:48.654755Z",
     "iopub.status.idle": "2022-01-30T05:03:48.658061Z",
     "shell.execute_reply": "2022-01-30T05:03:48.658574Z"
    },
    "papermill": {
     "duration": 0.025198,
     "end_time": "2022-01-30T05:03:48.658725",
     "exception": false,
     "start_time": "2022-01-30T05:03:48.633527",
     "status": "completed"
    },
    "tags": []
   },
   "outputs": [],
   "source": [
    "\n",
    "class LitDataset(Dataset):\n",
    "    def __init__(self, df, tokenizer, MAX_LEN=MAX_LEN):\n",
    "        super().__init__()\n",
    "\n",
    "        self.df = df        \n",
    "        self.text = df.text.tolist()\n",
    "        self.encoded = tokenizer.batch_encode_plus(\n",
    "                                                    self.text,\n",
    "                                                    padding = 'max_length',            \n",
    "                                                    max_length = MAX_LEN,\n",
    "                                                    truncation = True,\n",
    "                                                    return_attention_mask=True\n",
    "                                                )        \n",
    " \n",
    "\n",
    "    def __len__(self):\n",
    "        return len(self.df)\n",
    "\n",
    "    def __getitem__(self, index):        \n",
    "        input_ids = torch.tensor(self.encoded['input_ids'][index])\n",
    "        attention_mask = torch.tensor(self.encoded['attention_mask'][index])\n",
    "        return (input_ids, attention_mask)            \n"
   ]
  },
  {
   "cell_type": "markdown",
   "id": "macro-stupid",
   "metadata": {
    "papermill": {
     "duration": 0.013484,
     "end_time": "2022-01-30T05:03:48.685733",
     "exception": false,
     "start_time": "2022-01-30T05:03:48.672249",
     "status": "completed"
    },
    "tags": []
   },
   "source": [
    "# Model\n",
    "The model is inspired by the one from [Maunish](https://www.kaggle.com/maunish/clrp-roberta-svm)."
   ]
  },
  {
   "cell_type": "code",
   "execution_count": 6,
   "id": "adaptive-mixture",
   "metadata": {
    "execution": {
     "iopub.execute_input": "2022-01-30T05:03:48.720776Z",
     "iopub.status.busy": "2022-01-30T05:03:48.719771Z",
     "iopub.status.idle": "2022-01-30T05:03:48.722658Z",
     "shell.execute_reply": "2022-01-30T05:03:48.723677Z"
    },
    "papermill": {
     "duration": 0.024573,
     "end_time": "2022-01-30T05:03:48.723834",
     "exception": false,
     "start_time": "2022-01-30T05:03:48.699261",
     "status": "completed"
    },
    "tags": []
   },
   "outputs": [],
   "source": [
    "def predict(model, data_loader):\n",
    "    \"\"\"Returns an np.array with predictions of the |model| on |data_loader|\"\"\"\n",
    "    model.eval()\n",
    "\n",
    "    result = np.zeros(len(data_loader.dataset))    \n",
    "    index = 0\n",
    "    \n",
    "    with torch.no_grad():\n",
    "        for batch_num, (input_ids, attention_mask) in enumerate(data_loader):\n",
    "            input_ids = input_ids.to(DEVICE)\n",
    "            attention_mask = attention_mask.to(DEVICE)\n",
    "                        \n",
    "            pred = model(input_ids, attention_mask)                        \n",
    "\n",
    "            result[index : index + pred.shape[0]] = pred.flatten().to(\"cpu\")\n",
    "            index += pred.shape[0]\n",
    "\n",
    "    return result"
   ]
  },
  {
   "cell_type": "markdown",
   "id": "delayed-rugby",
   "metadata": {
    "papermill": {
     "duration": 0.013697,
     "end_time": "2022-01-30T05:03:48.750940",
     "exception": false,
     "start_time": "2022-01-30T05:03:48.737243",
     "status": "completed"
    },
    "tags": []
   },
   "source": [
    "# Inference"
   ]
  },
  {
   "cell_type": "markdown",
   "id": "decimal-mobile",
   "metadata": {
    "papermill": {
     "duration": 0.013798,
     "end_time": "2022-01-30T05:03:48.778475",
     "exception": false,
     "start_time": "2022-01-30T05:03:48.764677",
     "status": "completed"
    },
    "tags": []
   },
   "source": [
    "## Deberta large att"
   ]
  },
  {
   "cell_type": "code",
   "execution_count": 7,
   "id": "rural-springer",
   "metadata": {
    "execution": {
     "iopub.execute_input": "2022-01-30T05:03:48.817504Z",
     "iopub.status.busy": "2022-01-30T05:03:48.815129Z",
     "iopub.status.idle": "2022-01-30T05:03:48.818405Z",
     "shell.execute_reply": "2022-01-30T05:03:48.818978Z"
    },
    "papermill": {
     "duration": 0.0267,
     "end_time": "2022-01-30T05:03:48.819174",
     "exception": false,
     "start_time": "2022-01-30T05:03:48.792474",
     "status": "completed"
    },
    "tags": []
   },
   "outputs": [],
   "source": [
    "class AttentionModel(nn.Module):\n",
    "    def __init__(self, path):\n",
    "        super().__init__()\n",
    "\n",
    "        config = AutoConfig.from_pretrained(ROBERTA_PATH)\n",
    "        config.update({\"output_hidden_states\":True, \n",
    "                       \"hidden_dropout_prob\": 0.0,\n",
    "                       \"layer_norm_eps\": 1e-7})                       \n",
    "        \n",
    "        self.roberta = AutoModel.from_pretrained(ROBERTA_PATH, config=config)  \n",
    "        #self.roberta.base_model.embeddings.requires_grad_(False)    \n",
    "        self.attention = nn.Sequential(            \n",
    "            nn.Linear(config.hidden_size, 512),            \n",
    "            nn.Tanh(),                       \n",
    "            nn.Linear(512, 1),\n",
    "            nn.Softmax(dim=1)\n",
    "        )        \n",
    "        self.fc = nn.Linear(config.hidden_size, 1)                        \n",
    "        \n",
    "    def forward(self, input_ids, attention_mask):\n",
    "        roberta_output = self.roberta(input_ids=input_ids,\n",
    "                                      attention_mask=attention_mask)        \n",
    "        last_layer_hidden_states = roberta_output.hidden_states[-1]\n",
    "        weights = self.attention(last_layer_hidden_states)\n",
    "\n",
    "        context_vector = torch.sum(weights * last_layer_hidden_states, dim=1)       \n",
    "        return self.fc(context_vector)"
   ]
  },
  {
   "cell_type": "code",
   "execution_count": 8,
   "id": "lyric-velvet",
   "metadata": {
    "execution": {
     "iopub.execute_input": "2022-01-30T05:03:48.854853Z",
     "iopub.status.busy": "2022-01-30T05:03:48.854133Z",
     "iopub.status.idle": "2022-01-30T05:06:06.880580Z",
     "shell.execute_reply": "2022-01-30T05:06:06.879598Z"
    },
    "papermill": {
     "duration": 138.047159,
     "end_time": "2022-01-30T05:06:06.880735",
     "exception": false,
     "start_time": "2022-01-30T05:03:48.833576",
     "status": "completed"
    },
    "tags": []
   },
   "outputs": [
    {
     "name": "stdout",
     "output_type": "stream",
     "text": [
      "\n",
      "Using ../input/robertalargeatt-models/roberta_large_att_1.pth\n",
      "\n",
      "Using ../input/robertalargeatt-models/roberta_large_att_2.pth\n",
      "\n",
      "Using ../input/robertalargeatt-models/roberta_large_att_3.pth\n",
      "\n",
      "Using ../input/robertalargeatt-models/roberta_large_att_4.pth\n",
      "\n",
      "Using ../input/robertalargeatt-models/roberta_large_att_5.pth\n"
     ]
    }
   ],
   "source": [
    "TOKENIZER_PATH = ROBERTA_PATH = \"../input/roberta-transformers-pytorch/roberta-large\"\n",
    "tokenizer = AutoTokenizer.from_pretrained(TOKENIZER_PATH)\n",
    "all_predictions = np.zeros((5, len(test_df)))\n",
    "test_dataset = LitDataset(test_df, tokenizer=tokenizer)\n",
    "test_loader = DataLoader(test_dataset, batch_size=BATCH_SIZE, drop_last=False, shuffle=False, num_workers=2)\n",
    "\n",
    "for index in range(5):            \n",
    "    model_path = f\"../input/robertalargeatt-models/roberta_large_att_{index + 1}.pth\"\n",
    "    print(f\"\\nUsing {model_path}\")\n",
    "                        \n",
    "    model = AttentionModel(path=ROBERTA_PATH)\n",
    "    model.load_state_dict(torch.load(model_path))    \n",
    "    model.to(DEVICE)\n",
    "    \n",
    "    all_predictions[index] = predict(model, test_loader)\n",
    "    \n",
    "    del model\n",
    "    gc.collect()\n",
    "pred1 = all_predictions.mean(axis=0)"
   ]
  },
  {
   "cell_type": "markdown",
   "id": "occasional-addition",
   "metadata": {
    "papermill": {
     "duration": 0.014869,
     "end_time": "2022-01-30T05:06:06.911205",
     "exception": false,
     "start_time": "2022-01-30T05:06:06.896336",
     "status": "completed"
    },
    "tags": []
   },
   "source": [
    "## Roberta large cnn"
   ]
  },
  {
   "cell_type": "code",
   "execution_count": 9,
   "id": "arabic-february",
   "metadata": {
    "execution": {
     "iopub.execute_input": "2022-01-30T05:06:06.953255Z",
     "iopub.status.busy": "2022-01-30T05:06:06.952171Z",
     "iopub.status.idle": "2022-01-30T05:06:06.954755Z",
     "shell.execute_reply": "2022-01-30T05:06:06.955805Z"
    },
    "papermill": {
     "duration": 0.029288,
     "end_time": "2022-01-30T05:06:06.955965",
     "exception": false,
     "start_time": "2022-01-30T05:06:06.926677",
     "status": "completed"
    },
    "tags": []
   },
   "outputs": [],
   "source": [
    "class CNNModel(nn.Module):\n",
    "    def __init__(self, path):\n",
    "        super().__init__()\n",
    "\n",
    "        config = AutoConfig.from_pretrained(ROBERTA_PATH)\n",
    "        config.update({\"output_hidden_states\":True, \n",
    "                \"hidden_dropout_prob\": 0.0,\n",
    "                'return_dict':True})                      \n",
    "        \n",
    "        self.roberta = AutoModel.from_pretrained(ROBERTA_PATH, config=config)\n",
    "            \n",
    "        self.conv1 = nn.Conv1d(config.hidden_size, 512, 3, stride=1, padding=1, dilation=1, groups=1, bias=True, padding_mode='zeros')\n",
    "        self.conv2 = nn.Conv1d(512, 1, 3, stride=1, padding=1, dilation=1, groups=1, bias=True, padding_mode='zeros')\n",
    "\n",
    "\n",
    "    def forward(self, input_ids, attention_mask):\n",
    "        output = self.roberta(input_ids=input_ids, attention_mask=attention_mask)        \n",
    "        hs = output.hidden_states\n",
    "        #x = hs[-2]\n",
    "        x = torch.stack(hs)\n",
    "        x = torch.mean(x, 0)\n",
    "        conv1_logits = self.conv1(x.transpose(1, 2))\n",
    "        conv2_logits = self.conv2(conv1_logits)\n",
    "        logits = conv2_logits.transpose(1, 2)\n",
    "        x = torch.mean(logits, 1)\n",
    "        return x"
   ]
  },
  {
   "cell_type": "code",
   "execution_count": 10,
   "id": "medium-preliminary",
   "metadata": {
    "execution": {
     "iopub.execute_input": "2022-01-30T05:06:06.993654Z",
     "iopub.status.busy": "2022-01-30T05:06:06.992940Z",
     "iopub.status.idle": "2022-01-30T05:08:30.960370Z",
     "shell.execute_reply": "2022-01-30T05:08:30.959330Z"
    },
    "papermill": {
     "duration": 143.989497,
     "end_time": "2022-01-30T05:08:30.960562",
     "exception": false,
     "start_time": "2022-01-30T05:06:06.971065",
     "status": "completed"
    },
    "tags": []
   },
   "outputs": [
    {
     "name": "stdout",
     "output_type": "stream",
     "text": [
      "\n",
      "Using ../input/largecnn/deberta_large_cnn_1.pth\n",
      "\n",
      "Using ../input/largecnn/deberta_large_cnn_2.pth\n",
      "\n",
      "Using ../input/largecnn/deberta_large_cnn_3.pth\n",
      "\n",
      "Using ../input/largecnn/deberta_large_cnn_4.pth\n",
      "\n",
      "Using ../input/largecnn/deberta_large_cnn_5.pth\n"
     ]
    }
   ],
   "source": [
    "TOKENIZER_PATH = ROBERTA_PATH = \"../input/deberta/large\"\n",
    "tokenizer = AutoTokenizer.from_pretrained(TOKENIZER_PATH)\n",
    "all_predictions = np.zeros((5, len(test_df)))\n",
    "test_dataset = LitDataset(test_df, tokenizer=tokenizer)\n",
    "test_loader = DataLoader(test_dataset, batch_size=BATCH_SIZE, drop_last=False, shuffle=False, num_workers=2)\n",
    "\n",
    "for index in range(5):            \n",
    "    model_path = f\"../input/largecnn/deberta_large_cnn_{index + 1}.pth\"\n",
    "    print(f\"\\nUsing {model_path}\")\n",
    "                        \n",
    "    model = CNNModel(path=ROBERTA_PATH)\n",
    "    model.load_state_dict(torch.load(model_path))    \n",
    "    model.to(DEVICE)\n",
    "    \n",
    "    all_predictions[index] = predict(model, test_loader)\n",
    "    \n",
    "    del model\n",
    "    gc.collect()\n",
    "pred2 = all_predictions.mean(axis=0)"
   ]
  },
  {
   "cell_type": "markdown",
   "id": "transsexual-magnitude",
   "metadata": {
    "papermill": {
     "duration": 0.017717,
     "end_time": "2022-01-30T05:08:30.996427",
     "exception": false,
     "start_time": "2022-01-30T05:08:30.978710",
     "status": "completed"
    },
    "tags": []
   },
   "source": [
    "## Electra large cnn"
   ]
  },
  {
   "cell_type": "code",
   "execution_count": 11,
   "id": "dangerous-stretch",
   "metadata": {
    "execution": {
     "iopub.execute_input": "2022-01-30T05:08:31.040373Z",
     "iopub.status.busy": "2022-01-30T05:08:31.039630Z",
     "iopub.status.idle": "2022-01-30T05:10:39.607649Z",
     "shell.execute_reply": "2022-01-30T05:10:39.606989Z"
    },
    "papermill": {
     "duration": 128.593205,
     "end_time": "2022-01-30T05:10:39.607829",
     "exception": false,
     "start_time": "2022-01-30T05:08:31.014624",
     "status": "completed"
    },
    "tags": []
   },
   "outputs": [
    {
     "name": "stdout",
     "output_type": "stream",
     "text": [
      "\n",
      "Using ../input/largecnn/electra_large_cnn_1.pth\n",
      "\n",
      "Using ../input/largecnn/electra_large_cnn_2.pth\n",
      "\n",
      "Using ../input/largecnn/electra_large_cnn_3.pth\n",
      "\n",
      "Using ../input/largecnn/electra_large_cnn_4.pth\n",
      "\n",
      "Using ../input/largecnn/electra_large_cnn_5.pth\n"
     ]
    }
   ],
   "source": [
    "TOKENIZER_PATH = ROBERTA_PATH = \"../input/electra/large-discriminator\"\n",
    "tokenizer = AutoTokenizer.from_pretrained(TOKENIZER_PATH)\n",
    "all_predictions = np.zeros((NUM_FOLDS, len(test_df)))\n",
    "test_dataset = LitDataset(test_df, tokenizer=tokenizer)\n",
    "test_loader = DataLoader(test_dataset, batch_size=BATCH_SIZE, drop_last=False, shuffle=False, num_workers=2)\n",
    "\n",
    "for index in range(NUM_FOLDS):            \n",
    "    model_path = f\"../input/largecnn/electra_large_cnn_{index + 1}.pth\"\n",
    "    print(f\"\\nUsing {model_path}\")\n",
    "                        \n",
    "    model = CNNModel(path=ROBERTA_PATH)\n",
    "    model.load_state_dict(torch.load(model_path))    \n",
    "    model.to(DEVICE)\n",
    "    \n",
    "    all_predictions[index] = predict(model, test_loader)\n",
    "    \n",
    "    del model\n",
    "    gc.collect()\n",
    "pred3 = all_predictions.mean(axis=0)"
   ]
  },
  {
   "cell_type": "code",
   "execution_count": 12,
   "id": "rough-franchise",
   "metadata": {
    "execution": {
     "iopub.execute_input": "2022-01-30T05:10:39.671952Z",
     "iopub.status.busy": "2022-01-30T05:10:39.671122Z",
     "iopub.status.idle": "2022-01-30T05:10:40.586381Z",
     "shell.execute_reply": "2022-01-30T05:10:40.585404Z"
    },
    "papermill": {
     "duration": 0.957929,
     "end_time": "2022-01-30T05:10:40.586581",
     "exception": false,
     "start_time": "2022-01-30T05:10:39.628652",
     "status": "completed"
    },
    "tags": []
   },
   "outputs": [
    {
     "name": "stdout",
     "output_type": "stream",
     "text": [
      "    comment_id     score\n",
      "0       114890  0.000995\n",
      "1       732895  0.009851\n",
      "2      1139051  0.004916\n",
      "3      1434512  0.001150\n",
      "4      2084821  0.062548\n",
      "5      2452675  0.001626\n",
      "6      3206615  0.018351\n",
      "7      3665348  0.018531\n",
      "8      4502494  0.000115\n",
      "9      4804786  0.019353\n",
      "10     4974702  0.001323\n",
      "11     5407955  0.006877\n",
      "12     5760889  0.004328\n",
      "13     6468556  0.088157\n",
      "14     6545351  0.320189\n"
     ]
    }
   ],
   "source": [
    "submission_df.score = (pred1+pred2+pred3)/3\n",
    "print(submission_df)\n",
    "submission_df.to_csv(\"submission.csv\", index=False)"
   ]
  }
 ],
 "metadata": {
  "kernelspec": {
   "display_name": "Python 3",
   "language": "python",
   "name": "python3"
  },
  "language_info": {
   "codemirror_mode": {
    "name": "ipython",
    "version": 3
   },
   "file_extension": ".py",
   "mimetype": "text/x-python",
   "name": "python",
   "nbconvert_exporter": "python",
   "pygments_lexer": "ipython3",
   "version": "3.7.10"
  },
  "papermill": {
   "default_parameters": {},
   "duration": 430.944333,
   "end_time": "2022-01-30T05:10:43.131212",
   "environment_variables": {},
   "exception": null,
   "input_path": "__notebook__.ipynb",
   "output_path": "__notebook__.ipynb",
   "parameters": {},
   "start_time": "2022-01-30T05:03:32.186879",
   "version": "2.3.3"
  }
 },
 "nbformat": 4,
 "nbformat_minor": 5
}
