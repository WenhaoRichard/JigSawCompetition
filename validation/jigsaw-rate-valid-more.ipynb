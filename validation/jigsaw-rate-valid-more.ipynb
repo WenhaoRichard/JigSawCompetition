{
 "cells": [
  {
   "cell_type": "code",
   "execution_count": 1,
   "id": "corrected-stack",
   "metadata": {
    "_kg_hide-input": true,
    "execution": {
     "iopub.execute_input": "2022-01-30T09:27:31.549659Z",
     "iopub.status.busy": "2022-01-30T09:27:31.548021Z",
     "iopub.status.idle": "2022-01-30T09:27:38.504909Z",
     "shell.execute_reply": "2022-01-30T09:27:38.503924Z"
    },
    "papermill": {
     "duration": 6.972465,
     "end_time": "2022-01-30T09:27:38.505061",
     "exception": false,
     "start_time": "2022-01-30T09:27:31.532596",
     "status": "completed"
    },
    "tags": []
   },
   "outputs": [],
   "source": [
    "import os\n",
    "import math\n",
    "import random\n",
    "import time\n",
    "import glob\n",
    "import numpy as np\n",
    "import pandas as pd\n",
    "\n",
    "import torch\n",
    "import torch.nn as nn\n",
    "from torch.utils.data import Dataset\n",
    "from torch.utils.data import DataLoader\n",
    "import torch.nn.functional as F\n",
    "\n",
    "from transformers import AdamW\n",
    "from transformers import AutoTokenizer\n",
    "from transformers import AutoModel\n",
    "from transformers import AutoConfig\n",
    "from transformers import get_cosine_schedule_with_warmup\n",
    "\n",
    "from sklearn.model_selection import KFold\n",
    "\n",
    "import gc\n",
    "gc.enable()"
   ]
  },
  {
   "cell_type": "code",
   "execution_count": 2,
   "id": "rocky-academy",
   "metadata": {
    "execution": {
     "iopub.execute_input": "2022-01-30T09:27:38.573816Z",
     "iopub.status.busy": "2022-01-30T09:27:38.572949Z",
     "iopub.status.idle": "2022-01-30T09:27:38.575379Z",
     "shell.execute_reply": "2022-01-30T09:27:38.575746Z"
    },
    "papermill": {
     "duration": 0.059327,
     "end_time": "2022-01-30T09:27:38.575917",
     "exception": false,
     "start_time": "2022-01-30T09:27:38.516590",
     "status": "completed"
    },
    "tags": []
   },
   "outputs": [],
   "source": [
    "NUM_FOLDS = 5\n",
    "BATCH_SIZE = 8\n",
    "MAX_LEN = 256\n",
    "\n",
    "DEVICE = \"cuda\" if torch.cuda.is_available() else \"cpu\""
   ]
  },
  {
   "cell_type": "code",
   "execution_count": 3,
   "id": "subject-collective",
   "metadata": {
    "execution": {
     "iopub.execute_input": "2022-01-30T09:27:38.601522Z",
     "iopub.status.busy": "2022-01-30T09:27:38.600737Z",
     "iopub.status.idle": "2022-01-30T09:27:38.603431Z",
     "shell.execute_reply": "2022-01-30T09:27:38.603022Z"
    },
    "papermill": {
     "duration": 0.017296,
     "end_time": "2022-01-30T09:27:38.603540",
     "exception": false,
     "start_time": "2022-01-30T09:27:38.586244",
     "status": "completed"
    },
    "tags": []
   },
   "outputs": [],
   "source": [
    "def set_random_seed(random_seed):\n",
    "    random.seed(random_seed)\n",
    "    np.random.seed(random_seed)\n",
    "    os.environ[\"PYTHONHASHSEED\"] = str(random_seed)\n",
    "\n",
    "    torch.manual_seed(random_seed)\n",
    "    torch.cuda.manual_seed(random_seed)\n",
    "    torch.cuda.manual_seed_all(random_seed)\n",
    "\n",
    "    torch.backends.cudnn.deterministic = True"
   ]
  },
  {
   "cell_type": "code",
   "execution_count": 4,
   "id": "equipped-papua",
   "metadata": {
    "execution": {
     "iopub.execute_input": "2022-01-30T09:27:38.629583Z",
     "iopub.status.busy": "2022-01-30T09:27:38.629029Z",
     "iopub.status.idle": "2022-01-30T09:27:39.104505Z",
     "shell.execute_reply": "2022-01-30T09:27:39.103790Z"
    },
    "papermill": {
     "duration": 0.490766,
     "end_time": "2022-01-30T09:27:39.104641",
     "exception": false,
     "start_time": "2022-01-30T09:27:38.613875",
     "status": "completed"
    },
    "tags": []
   },
   "outputs": [],
   "source": [
    "test_df = pd.read_csv(\"../input/jigsaw-toxic-severity-rating/validation_data.csv\")"
   ]
  },
  {
   "cell_type": "markdown",
   "id": "transsexual-deadline",
   "metadata": {
    "papermill": {
     "duration": 0.010402,
     "end_time": "2022-01-30T09:27:39.125759",
     "exception": false,
     "start_time": "2022-01-30T09:27:39.115357",
     "status": "completed"
    },
    "tags": []
   },
   "source": [
    "# Dataset"
   ]
  },
  {
   "cell_type": "code",
   "execution_count": 5,
   "id": "cultural-enforcement",
   "metadata": {
    "execution": {
     "iopub.execute_input": "2022-01-30T09:27:39.153403Z",
     "iopub.status.busy": "2022-01-30T09:27:39.152875Z",
     "iopub.status.idle": "2022-01-30T09:27:39.156733Z",
     "shell.execute_reply": "2022-01-30T09:27:39.156297Z"
    },
    "papermill": {
     "duration": 0.020507,
     "end_time": "2022-01-30T09:27:39.156860",
     "exception": false,
     "start_time": "2022-01-30T09:27:39.136353",
     "status": "completed"
    },
    "tags": []
   },
   "outputs": [],
   "source": [
    "\n",
    "class LitDataset(Dataset):\n",
    "    def __init__(self, df, tokenizer, MAX_LEN=MAX_LEN):\n",
    "        super().__init__()\n",
    "\n",
    "        self.df = df        \n",
    "        self.text = df.more_toxic.tolist()\n",
    "        self.encoded = tokenizer.batch_encode_plus(\n",
    "                                                    self.text,\n",
    "                                                    padding = 'max_length',            \n",
    "                                                    max_length = MAX_LEN,\n",
    "                                                    truncation = True,\n",
    "                                                    return_attention_mask=True\n",
    "                                                )        \n",
    " \n",
    "\n",
    "    def __len__(self):\n",
    "        return len(self.df)\n",
    "\n",
    "    def __getitem__(self, index):        \n",
    "        input_ids = torch.tensor(self.encoded['input_ids'][index])\n",
    "        attention_mask = torch.tensor(self.encoded['attention_mask'][index])\n",
    "        return (input_ids, attention_mask)            \n"
   ]
  },
  {
   "cell_type": "markdown",
   "id": "lyric-group",
   "metadata": {
    "papermill": {
     "duration": 0.010317,
     "end_time": "2022-01-30T09:27:39.177662",
     "exception": false,
     "start_time": "2022-01-30T09:27:39.167345",
     "status": "completed"
    },
    "tags": []
   },
   "source": [
    "# Model\n",
    "The model is inspired by the one from [Maunish](https://www.kaggle.com/maunish/clrp-roberta-svm)."
   ]
  },
  {
   "cell_type": "code",
   "execution_count": 6,
   "id": "prescription-federal",
   "metadata": {
    "execution": {
     "iopub.execute_input": "2022-01-30T09:27:39.205053Z",
     "iopub.status.busy": "2022-01-30T09:27:39.204351Z",
     "iopub.status.idle": "2022-01-30T09:27:39.207135Z",
     "shell.execute_reply": "2022-01-30T09:27:39.206698Z"
    },
    "papermill": {
     "duration": 0.019067,
     "end_time": "2022-01-30T09:27:39.207246",
     "exception": false,
     "start_time": "2022-01-30T09:27:39.188179",
     "status": "completed"
    },
    "tags": []
   },
   "outputs": [],
   "source": [
    "def predict(model, data_loader):\n",
    "    \"\"\"Returns an np.array with predictions of the |model| on |data_loader|\"\"\"\n",
    "    model.eval()\n",
    "\n",
    "    result = np.zeros(len(data_loader.dataset))    \n",
    "    index = 0\n",
    "    \n",
    "    with torch.no_grad():\n",
    "        for batch_num, (input_ids, attention_mask) in enumerate(data_loader):\n",
    "            input_ids = input_ids.to(DEVICE)\n",
    "            attention_mask = attention_mask.to(DEVICE)\n",
    "                        \n",
    "            pred = model(input_ids, attention_mask)                        \n",
    "\n",
    "            result[index : index + pred.shape[0]] = pred.flatten().to(\"cpu\")\n",
    "            index += pred.shape[0]\n",
    "\n",
    "    return result"
   ]
  },
  {
   "cell_type": "markdown",
   "id": "enhanced-efficiency",
   "metadata": {
    "papermill": {
     "duration": 0.010871,
     "end_time": "2022-01-30T09:27:39.228889",
     "exception": false,
     "start_time": "2022-01-30T09:27:39.218018",
     "status": "completed"
    },
    "tags": []
   },
   "source": [
    "# Inference"
   ]
  },
  {
   "cell_type": "markdown",
   "id": "extensive-kentucky",
   "metadata": {
    "papermill": {
     "duration": 0.010538,
     "end_time": "2022-01-30T09:27:39.250444",
     "exception": false,
     "start_time": "2022-01-30T09:27:39.239906",
     "status": "completed"
    },
    "tags": []
   },
   "source": [
    "## Deberta large att"
   ]
  },
  {
   "cell_type": "code",
   "execution_count": 7,
   "id": "bacterial-support",
   "metadata": {
    "execution": {
     "iopub.execute_input": "2022-01-30T09:27:39.279593Z",
     "iopub.status.busy": "2022-01-30T09:27:39.278748Z",
     "iopub.status.idle": "2022-01-30T09:27:39.281472Z",
     "shell.execute_reply": "2022-01-30T09:27:39.281017Z"
    },
    "papermill": {
     "duration": 0.020412,
     "end_time": "2022-01-30T09:27:39.281574",
     "exception": false,
     "start_time": "2022-01-30T09:27:39.261162",
     "status": "completed"
    },
    "tags": []
   },
   "outputs": [],
   "source": [
    "class AttentionModel(nn.Module):\n",
    "    def __init__(self, path):\n",
    "        super().__init__()\n",
    "\n",
    "        config = AutoConfig.from_pretrained(ROBERTA_PATH)\n",
    "        config.update({\"output_hidden_states\":True, \n",
    "                       \"hidden_dropout_prob\": 0.0,\n",
    "                       \"layer_norm_eps\": 1e-7})                       \n",
    "        \n",
    "        self.roberta = AutoModel.from_pretrained(ROBERTA_PATH, config=config)  \n",
    "        #self.roberta.base_model.embeddings.requires_grad_(False)    \n",
    "        self.attention = nn.Sequential(            \n",
    "            nn.Linear(config.hidden_size, 512),            \n",
    "            nn.Tanh(),                       \n",
    "            nn.Linear(512, 1),\n",
    "            nn.Softmax(dim=1)\n",
    "        )        \n",
    "        self.fc = nn.Linear(config.hidden_size, 1)                        \n",
    "        \n",
    "    def forward(self, input_ids, attention_mask):\n",
    "        roberta_output = self.roberta(input_ids=input_ids,\n",
    "                                      attention_mask=attention_mask)        \n",
    "        last_layer_hidden_states = roberta_output.hidden_states[-1]\n",
    "        weights = self.attention(last_layer_hidden_states)\n",
    "\n",
    "        context_vector = torch.sum(weights * last_layer_hidden_states, dim=1)       \n",
    "        return self.fc(context_vector)"
   ]
  },
  {
   "cell_type": "code",
   "execution_count": 8,
   "id": "balanced-external",
   "metadata": {
    "execution": {
     "iopub.execute_input": "2022-01-30T09:27:39.309174Z",
     "iopub.status.busy": "2022-01-30T09:27:39.308626Z",
     "iopub.status.idle": "2022-01-30T10:46:05.344187Z",
     "shell.execute_reply": "2022-01-30T10:46:05.343586Z"
    },
    "papermill": {
     "duration": 4706.051692,
     "end_time": "2022-01-30T10:46:05.344349",
     "exception": false,
     "start_time": "2022-01-30T09:27:39.292657",
     "status": "completed"
    },
    "tags": []
   },
   "outputs": [
    {
     "name": "stdout",
     "output_type": "stream",
     "text": [
      "\n",
      "Using ../input/robertalargeatt-models/roberta_large_att_1.pth\n",
      "\n",
      "Using ../input/robertalargeatt-models/roberta_large_att_2.pth\n",
      "\n",
      "Using ../input/robertalargeatt-models/roberta_large_att_3.pth\n",
      "\n",
      "Using ../input/robertalargeatt-models/roberta_large_att_4.pth\n",
      "\n",
      "Using ../input/robertalargeatt-models/roberta_large_att_5.pth\n"
     ]
    }
   ],
   "source": [
    "TOKENIZER_PATH = ROBERTA_PATH = \"../input/roberta-transformers-pytorch/roberta-large\"\n",
    "tokenizer = AutoTokenizer.from_pretrained(TOKENIZER_PATH)\n",
    "all_predictions = np.zeros((5, len(test_df)))\n",
    "test_dataset = LitDataset(test_df, tokenizer=tokenizer)\n",
    "test_loader = DataLoader(test_dataset, batch_size=BATCH_SIZE, drop_last=False, shuffle=False, num_workers=2)\n",
    "\n",
    "for index in range(5):            \n",
    "    model_path = f\"../input/robertalargeatt-models/roberta_large_att_{index + 1}.pth\"\n",
    "    print(f\"\\nUsing {model_path}\")\n",
    "                        \n",
    "    model = AttentionModel(path=ROBERTA_PATH)\n",
    "    model.load_state_dict(torch.load(model_path))    \n",
    "    model.to(DEVICE)\n",
    "    \n",
    "    all_predictions[index] = predict(model, test_loader)\n",
    "    \n",
    "    del model\n",
    "    gc.collect()\n",
    "pred1 = all_predictions.mean(axis=0)"
   ]
  },
  {
   "cell_type": "markdown",
   "id": "burning-poker",
   "metadata": {
    "papermill": {
     "duration": 0.014581,
     "end_time": "2022-01-30T10:46:05.373205",
     "exception": false,
     "start_time": "2022-01-30T10:46:05.358624",
     "status": "completed"
    },
    "tags": []
   },
   "source": [
    "## Roberta large cnn"
   ]
  },
  {
   "cell_type": "code",
   "execution_count": 9,
   "id": "universal-performer",
   "metadata": {
    "execution": {
     "iopub.execute_input": "2022-01-30T10:46:05.408539Z",
     "iopub.status.busy": "2022-01-30T10:46:05.407675Z",
     "iopub.status.idle": "2022-01-30T10:46:05.410686Z",
     "shell.execute_reply": "2022-01-30T10:46:05.409886Z"
    },
    "papermill": {
     "duration": 0.024938,
     "end_time": "2022-01-30T10:46:05.410861",
     "exception": false,
     "start_time": "2022-01-30T10:46:05.385923",
     "status": "completed"
    },
    "tags": []
   },
   "outputs": [],
   "source": [
    "class CNNModel(nn.Module):\n",
    "    def __init__(self, path):\n",
    "        super().__init__()\n",
    "\n",
    "        config = AutoConfig.from_pretrained(ROBERTA_PATH)\n",
    "        config.update({\"output_hidden_states\":True, \n",
    "                \"hidden_dropout_prob\": 0.0,\n",
    "                'return_dict':True})                      \n",
    "        \n",
    "        self.roberta = AutoModel.from_pretrained(ROBERTA_PATH, config=config)\n",
    "            \n",
    "        self.conv1 = nn.Conv1d(config.hidden_size, 512, 3, stride=1, padding=1, dilation=1, groups=1, bias=True, padding_mode='zeros')\n",
    "        self.conv2 = nn.Conv1d(512, 1, 3, stride=1, padding=1, dilation=1, groups=1, bias=True, padding_mode='zeros')\n",
    "\n",
    "\n",
    "    def forward(self, input_ids, attention_mask):\n",
    "        output = self.roberta(input_ids=input_ids, attention_mask=attention_mask)        \n",
    "        hs = output.hidden_states\n",
    "        #x = hs[-2]\n",
    "        x = torch.stack(hs)\n",
    "        x = torch.mean(x, 0)\n",
    "        conv1_logits = self.conv1(x.transpose(1, 2))\n",
    "        conv2_logits = self.conv2(conv1_logits)\n",
    "        logits = conv2_logits.transpose(1, 2)\n",
    "        x = torch.mean(logits, 1)\n",
    "        return x"
   ]
  },
  {
   "cell_type": "code",
   "execution_count": 10,
   "id": "antique-entity",
   "metadata": {
    "execution": {
     "iopub.execute_input": "2022-01-30T10:46:05.448075Z",
     "iopub.status.busy": "2022-01-30T10:46:05.447558Z",
     "iopub.status.idle": "2022-01-30T12:28:15.174120Z",
     "shell.execute_reply": "2022-01-30T12:28:15.173567Z"
    },
    "papermill": {
     "duration": 6129.745212,
     "end_time": "2022-01-30T12:28:15.174277",
     "exception": false,
     "start_time": "2022-01-30T10:46:05.429065",
     "status": "completed"
    },
    "tags": []
   },
   "outputs": [
    {
     "name": "stdout",
     "output_type": "stream",
     "text": [
      "\n",
      "Using ../input/largecnn/deberta_large_cnn_1.pth\n",
      "\n",
      "Using ../input/largecnn/deberta_large_cnn_2.pth\n",
      "\n",
      "Using ../input/largecnn/deberta_large_cnn_3.pth\n",
      "\n",
      "Using ../input/largecnn/deberta_large_cnn_4.pth\n",
      "\n",
      "Using ../input/largecnn/deberta_large_cnn_5.pth\n"
     ]
    }
   ],
   "source": [
    "TOKENIZER_PATH = ROBERTA_PATH = \"../input/deberta/large\"\n",
    "tokenizer = AutoTokenizer.from_pretrained(TOKENIZER_PATH)\n",
    "all_predictions = np.zeros((5, len(test_df)))\n",
    "test_dataset = LitDataset(test_df, tokenizer=tokenizer)\n",
    "test_loader = DataLoader(test_dataset, batch_size=BATCH_SIZE, drop_last=False, shuffle=False, num_workers=2)\n",
    "\n",
    "for index in range(5):            \n",
    "    model_path = f\"../input/largecnn/deberta_large_cnn_{index + 1}.pth\"\n",
    "    print(f\"\\nUsing {model_path}\")\n",
    "                        \n",
    "    model = CNNModel(path=ROBERTA_PATH)\n",
    "    model.load_state_dict(torch.load(model_path))    \n",
    "    model.to(DEVICE)\n",
    "    \n",
    "    all_predictions[index] = predict(model, test_loader)\n",
    "    \n",
    "    del model\n",
    "    gc.collect()\n",
    "pred2 = all_predictions.mean(axis=0)"
   ]
  },
  {
   "cell_type": "markdown",
   "id": "welsh-ukraine",
   "metadata": {
    "papermill": {
     "duration": 0.013819,
     "end_time": "2022-01-30T12:28:15.202211",
     "exception": false,
     "start_time": "2022-01-30T12:28:15.188392",
     "status": "completed"
    },
    "tags": []
   },
   "source": [
    "## Electra large cnn"
   ]
  },
  {
   "cell_type": "code",
   "execution_count": 11,
   "id": "protective-nickname",
   "metadata": {
    "execution": {
     "iopub.execute_input": "2022-01-30T12:28:15.235843Z",
     "iopub.status.busy": "2022-01-30T12:28:15.235321Z",
     "iopub.status.idle": "2022-01-30T13:47:03.551261Z",
     "shell.execute_reply": "2022-01-30T13:47:03.551713Z"
    },
    "papermill": {
     "duration": 4728.336227,
     "end_time": "2022-01-30T13:47:03.551924",
     "exception": false,
     "start_time": "2022-01-30T12:28:15.215697",
     "status": "completed"
    },
    "tags": []
   },
   "outputs": [
    {
     "name": "stdout",
     "output_type": "stream",
     "text": [
      "\n",
      "Using ../input/largecnn/electra_large_cnn_1.pth\n",
      "\n",
      "Using ../input/largecnn/electra_large_cnn_2.pth\n",
      "\n",
      "Using ../input/largecnn/electra_large_cnn_3.pth\n",
      "\n",
      "Using ../input/largecnn/electra_large_cnn_4.pth\n",
      "\n",
      "Using ../input/largecnn/electra_large_cnn_5.pth\n"
     ]
    }
   ],
   "source": [
    "TOKENIZER_PATH = ROBERTA_PATH = \"../input/electra/large-discriminator\"\n",
    "tokenizer = AutoTokenizer.from_pretrained(TOKENIZER_PATH)\n",
    "all_predictions = np.zeros((NUM_FOLDS, len(test_df)))\n",
    "test_dataset = LitDataset(test_df, tokenizer=tokenizer)\n",
    "test_loader = DataLoader(test_dataset, batch_size=BATCH_SIZE, drop_last=False, shuffle=False, num_workers=2)\n",
    "\n",
    "for index in range(NUM_FOLDS):            \n",
    "    model_path = f\"../input/largecnn/electra_large_cnn_{index + 1}.pth\"\n",
    "    print(f\"\\nUsing {model_path}\")\n",
    "                        \n",
    "    model = CNNModel(path=ROBERTA_PATH)\n",
    "    model.load_state_dict(torch.load(model_path))    \n",
    "    model.to(DEVICE)\n",
    "    \n",
    "    all_predictions[index] = predict(model, test_loader)\n",
    "    \n",
    "    del model\n",
    "    gc.collect()\n",
    "pred3 = all_predictions.mean(axis=0)"
   ]
  },
  {
   "cell_type": "code",
   "execution_count": 12,
   "id": "prerequisite-professional",
   "metadata": {
    "execution": {
     "iopub.execute_input": "2022-01-30T13:47:03.586999Z",
     "iopub.status.busy": "2022-01-30T13:47:03.586429Z",
     "iopub.status.idle": "2022-01-30T13:47:06.605581Z",
     "shell.execute_reply": "2022-01-30T13:47:06.605094Z"
    },
    "papermill": {
     "duration": 3.037811,
     "end_time": "2022-01-30T13:47:06.605714",
     "exception": false,
     "start_time": "2022-01-30T13:47:03.567903",
     "status": "completed"
    },
    "tags": []
   },
   "outputs": [],
   "source": [
    "test_df['score'] = (pred1+pred2+pred3)/3\n",
    "\n",
    "test_df.to_csv(\"more.csv\", index=False)"
   ]
  }
 ],
 "metadata": {
  "kernelspec": {
   "display_name": "Python 3",
   "language": "python",
   "name": "python3"
  },
  "language_info": {
   "codemirror_mode": {
    "name": "ipython",
    "version": 3
   },
   "file_extension": ".py",
   "mimetype": "text/x-python",
   "name": "python",
   "nbconvert_exporter": "python",
   "pygments_lexer": "ipython3",
   "version": "3.7.10"
  },
  "papermill": {
   "default_parameters": {},
   "duration": 15585.371856,
   "end_time": "2022-01-30T13:47:10.399502",
   "environment_variables": {},
   "exception": null,
   "input_path": "__notebook__.ipynb",
   "output_path": "__notebook__.ipynb",
   "parameters": {},
   "start_time": "2022-01-30T09:27:25.027646",
   "version": "2.3.3"
  }
 },
 "nbformat": 4,
 "nbformat_minor": 5
}
