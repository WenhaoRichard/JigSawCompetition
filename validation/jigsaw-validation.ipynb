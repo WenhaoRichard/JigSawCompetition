{
 "cells": [
  {
   "cell_type": "code",
   "execution_count": 1,
   "id": "bd94b0cd",
   "metadata": {
    "_cell_guid": "b1076dfc-b9ad-4769-8c92-a6c4dae69d19",
    "_uuid": "8f2839f25d086af736a60e9eeb907d3b93b6e0e5",
    "execution": {
     "iopub.execute_input": "2022-01-30T14:01:50.030477Z",
     "iopub.status.busy": "2022-01-30T14:01:50.029960Z",
     "iopub.status.idle": "2022-01-30T14:01:50.034059Z",
     "shell.execute_reply": "2022-01-30T14:01:50.034567Z",
     "shell.execute_reply.started": "2022-01-30T13:59:27.670887Z"
    },
    "papermill": {
     "duration": 0.017293,
     "end_time": "2022-01-30T14:01:50.034845",
     "exception": false,
     "start_time": "2022-01-30T14:01:50.017552",
     "status": "completed"
    },
    "tags": []
   },
   "outputs": [],
   "source": [
    "import numpy as np # linear algebra\n",
    "import pandas as pd # data processing, CSV file I/O (e.g. pd.read_csv)"
   ]
  },
  {
   "cell_type": "code",
   "execution_count": 2,
   "id": "52e0af7c",
   "metadata": {
    "execution": {
     "iopub.execute_input": "2022-01-30T14:01:50.045026Z",
     "iopub.status.busy": "2022-01-30T14:01:50.044415Z",
     "iopub.status.idle": "2022-01-30T14:01:51.174147Z",
     "shell.execute_reply": "2022-01-30T14:01:51.174648Z",
     "shell.execute_reply.started": "2022-01-30T14:00:47.615809Z"
    },
    "papermill": {
     "duration": 1.136,
     "end_time": "2022-01-30T14:01:51.174838",
     "exception": false,
     "start_time": "2022-01-30T14:01:50.038838",
     "status": "completed"
    },
    "tags": []
   },
   "outputs": [],
   "source": [
    "less = pd.read_csv('../input/jigsaw-rate-valid/less.csv')\n",
    "more = pd.read_csv('../input/jigsaw-rate-valid-more/more.csv')"
   ]
  },
  {
   "cell_type": "code",
   "execution_count": 3,
   "id": "8111d48e",
   "metadata": {
    "execution": {
     "iopub.execute_input": "2022-01-30T14:01:51.194459Z",
     "iopub.status.busy": "2022-01-30T14:01:51.193514Z",
     "iopub.status.idle": "2022-01-30T14:01:51.202696Z",
     "shell.execute_reply": "2022-01-30T14:01:51.203037Z",
     "shell.execute_reply.started": "2022-01-30T14:01:09.246408Z"
    },
    "papermill": {
     "duration": 0.023153,
     "end_time": "2022-01-30T14:01:51.203200",
     "exception": false,
     "start_time": "2022-01-30T14:01:51.180047",
     "status": "completed"
    },
    "tags": []
   },
   "outputs": [
    {
     "data": {
      "text/plain": [
       "0.7019396838049687"
      ]
     },
     "execution_count": 3,
     "metadata": {},
     "output_type": "execute_result"
    }
   ],
   "source": [
    "np.mean(less['score']<more['score'])"
   ]
  },
  {
   "cell_type": "code",
   "execution_count": null,
   "id": "3a071c0b",
   "metadata": {
    "papermill": {
     "duration": 0.003243,
     "end_time": "2022-01-30T14:01:51.210448",
     "exception": false,
     "start_time": "2022-01-30T14:01:51.207205",
     "status": "completed"
    },
    "tags": []
   },
   "outputs": [],
   "source": []
  }
 ],
 "metadata": {
  "kernelspec": {
   "display_name": "Python 3",
   "language": "python",
   "name": "python3"
  },
  "language_info": {
   "codemirror_mode": {
    "name": "ipython",
    "version": 3
   },
   "file_extension": ".py",
   "mimetype": "text/x-python",
   "name": "python",
   "nbconvert_exporter": "python",
   "pygments_lexer": "ipython3",
   "version": "3.7.12"
  },
  "papermill": {
   "default_parameters": {},
   "duration": 9.318063,
   "end_time": "2022-01-30T14:01:51.722125",
   "environment_variables": {},
   "exception": null,
   "input_path": "__notebook__.ipynb",
   "output_path": "__notebook__.ipynb",
   "parameters": {},
   "start_time": "2022-01-30T14:01:42.404062",
   "version": "2.3.3"
  }
 },
 "nbformat": 4,
 "nbformat_minor": 5
}
