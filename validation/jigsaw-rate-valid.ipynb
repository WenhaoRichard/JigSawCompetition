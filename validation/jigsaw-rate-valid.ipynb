{
 "cells": [
  {
   "cell_type": "code",
   "execution_count": 1,
   "id": "dangerous-directive",
   "metadata": {
    "_kg_hide-input": true,
    "execution": {
     "iopub.execute_input": "2022-01-30T09:26:44.445699Z",
     "iopub.status.busy": "2022-01-30T09:26:44.445114Z",
     "iopub.status.idle": "2022-01-30T09:26:51.325195Z",
     "shell.execute_reply": "2022-01-30T09:26:51.324580Z"
    },
    "papermill": {
     "duration": 6.902466,
     "end_time": "2022-01-30T09:26:51.325366",
     "exception": false,
     "start_time": "2022-01-30T09:26:44.422900",
     "status": "completed"
    },
    "tags": []
   },
   "outputs": [],
   "source": [
    "import os\n",
    "import math\n",
    "import random\n",
    "import time\n",
    "import glob\n",
    "import numpy as np\n",
    "import pandas as pd\n",
    "\n",
    "import torch\n",
    "import torch.nn as nn\n",
    "from torch.utils.data import Dataset\n",
    "from torch.utils.data import DataLoader\n",
    "import torch.nn.functional as F\n",
    "\n",
    "from transformers import AdamW\n",
    "from transformers import AutoTokenizer\n",
    "from transformers import AutoModel\n",
    "from transformers import AutoConfig\n",
    "from transformers import get_cosine_schedule_with_warmup\n",
    "\n",
    "from sklearn.model_selection import KFold\n",
    "\n",
    "import gc\n",
    "gc.enable()"
   ]
  },
  {
   "cell_type": "code",
   "execution_count": 2,
   "id": "postal-salad",
   "metadata": {
    "execution": {
     "iopub.execute_input": "2022-01-30T09:26:51.391928Z",
     "iopub.status.busy": "2022-01-30T09:26:51.391166Z",
     "iopub.status.idle": "2022-01-30T09:26:51.393987Z",
     "shell.execute_reply": "2022-01-30T09:26:51.393241Z"
    },
    "papermill": {
     "duration": 0.05679,
     "end_time": "2022-01-30T09:26:51.394156",
     "exception": false,
     "start_time": "2022-01-30T09:26:51.337366",
     "status": "completed"
    },
    "tags": []
   },
   "outputs": [],
   "source": [
    "NUM_FOLDS = 5\n",
    "BATCH_SIZE = 8\n",
    "MAX_LEN = 256\n",
    "\n",
    "DEVICE = \"cuda\" if torch.cuda.is_available() else \"cpu\""
   ]
  },
  {
   "cell_type": "code",
   "execution_count": 3,
   "id": "european-eligibility",
   "metadata": {
    "execution": {
     "iopub.execute_input": "2022-01-30T09:26:51.419621Z",
     "iopub.status.busy": "2022-01-30T09:26:51.418883Z",
     "iopub.status.idle": "2022-01-30T09:26:51.421638Z",
     "shell.execute_reply": "2022-01-30T09:26:51.421246Z"
    },
    "papermill": {
     "duration": 0.017372,
     "end_time": "2022-01-30T09:26:51.421743",
     "exception": false,
     "start_time": "2022-01-30T09:26:51.404371",
     "status": "completed"
    },
    "tags": []
   },
   "outputs": [],
   "source": [
    "def set_random_seed(random_seed):\n",
    "    random.seed(random_seed)\n",
    "    np.random.seed(random_seed)\n",
    "    os.environ[\"PYTHONHASHSEED\"] = str(random_seed)\n",
    "\n",
    "    torch.manual_seed(random_seed)\n",
    "    torch.cuda.manual_seed(random_seed)\n",
    "    torch.cuda.manual_seed_all(random_seed)\n",
    "\n",
    "    torch.backends.cudnn.deterministic = True"
   ]
  },
  {
   "cell_type": "code",
   "execution_count": 4,
   "id": "amber-market",
   "metadata": {
    "execution": {
     "iopub.execute_input": "2022-01-30T09:26:51.447225Z",
     "iopub.status.busy": "2022-01-30T09:26:51.446645Z",
     "iopub.status.idle": "2022-01-30T09:26:51.875640Z",
     "shell.execute_reply": "2022-01-30T09:26:51.874717Z"
    },
    "papermill": {
     "duration": 0.444096,
     "end_time": "2022-01-30T09:26:51.875792",
     "exception": false,
     "start_time": "2022-01-30T09:26:51.431696",
     "status": "completed"
    },
    "tags": []
   },
   "outputs": [],
   "source": [
    "test_df = pd.read_csv(\"../input/jigsaw-toxic-severity-rating/validation_data.csv\")"
   ]
  },
  {
   "cell_type": "markdown",
   "id": "linear-surfing",
   "metadata": {
    "papermill": {
     "duration": 0.010663,
     "end_time": "2022-01-30T09:26:51.897070",
     "exception": false,
     "start_time": "2022-01-30T09:26:51.886407",
     "status": "completed"
    },
    "tags": []
   },
   "source": [
    "# Dataset"
   ]
  },
  {
   "cell_type": "code",
   "execution_count": 5,
   "id": "domestic-michigan",
   "metadata": {
    "execution": {
     "iopub.execute_input": "2022-01-30T09:26:51.925437Z",
     "iopub.status.busy": "2022-01-30T09:26:51.924569Z",
     "iopub.status.idle": "2022-01-30T09:26:51.927119Z",
     "shell.execute_reply": "2022-01-30T09:26:51.926680Z"
    },
    "papermill": {
     "duration": 0.019753,
     "end_time": "2022-01-30T09:26:51.927241",
     "exception": false,
     "start_time": "2022-01-30T09:26:51.907488",
     "status": "completed"
    },
    "tags": []
   },
   "outputs": [],
   "source": [
    "\n",
    "class LitDataset(Dataset):\n",
    "    def __init__(self, df, tokenizer, MAX_LEN=MAX_LEN):\n",
    "        super().__init__()\n",
    "\n",
    "        self.df = df        \n",
    "        self.text = df.less_toxic.tolist()\n",
    "        self.encoded = tokenizer.batch_encode_plus(\n",
    "                                                    self.text,\n",
    "                                                    padding = 'max_length',            \n",
    "                                                    max_length = MAX_LEN,\n",
    "                                                    truncation = True,\n",
    "                                                    return_attention_mask=True\n",
    "                                                )        \n",
    " \n",
    "\n",
    "    def __len__(self):\n",
    "        return len(self.df)\n",
    "\n",
    "    def __getitem__(self, index):        \n",
    "        input_ids = torch.tensor(self.encoded['input_ids'][index])\n",
    "        attention_mask = torch.tensor(self.encoded['attention_mask'][index])\n",
    "        return (input_ids, attention_mask)            \n"
   ]
  },
  {
   "cell_type": "markdown",
   "id": "oriented-squad",
   "metadata": {
    "papermill": {
     "duration": 0.010145,
     "end_time": "2022-01-30T09:26:51.948097",
     "exception": false,
     "start_time": "2022-01-30T09:26:51.937952",
     "status": "completed"
    },
    "tags": []
   },
   "source": [
    "# Model\n",
    "The model is inspired by the one from [Maunish](https://www.kaggle.com/maunish/clrp-roberta-svm)."
   ]
  },
  {
   "cell_type": "code",
   "execution_count": 6,
   "id": "familiar-tissue",
   "metadata": {
    "execution": {
     "iopub.execute_input": "2022-01-30T09:26:51.975380Z",
     "iopub.status.busy": "2022-01-30T09:26:51.974615Z",
     "iopub.status.idle": "2022-01-30T09:26:51.977442Z",
     "shell.execute_reply": "2022-01-30T09:26:51.976997Z"
    },
    "papermill": {
     "duration": 0.018919,
     "end_time": "2022-01-30T09:26:51.977551",
     "exception": false,
     "start_time": "2022-01-30T09:26:51.958632",
     "status": "completed"
    },
    "tags": []
   },
   "outputs": [],
   "source": [
    "def predict(model, data_loader):\n",
    "    \"\"\"Returns an np.array with predictions of the |model| on |data_loader|\"\"\"\n",
    "    model.eval()\n",
    "\n",
    "    result = np.zeros(len(data_loader.dataset))    \n",
    "    index = 0\n",
    "    \n",
    "    with torch.no_grad():\n",
    "        for batch_num, (input_ids, attention_mask) in enumerate(data_loader):\n",
    "            input_ids = input_ids.to(DEVICE)\n",
    "            attention_mask = attention_mask.to(DEVICE)\n",
    "                        \n",
    "            pred = model(input_ids, attention_mask)                        \n",
    "\n",
    "            result[index : index + pred.shape[0]] = pred.flatten().to(\"cpu\")\n",
    "            index += pred.shape[0]\n",
    "\n",
    "    return result"
   ]
  },
  {
   "cell_type": "markdown",
   "id": "boring-corpus",
   "metadata": {
    "papermill": {
     "duration": 0.010666,
     "end_time": "2022-01-30T09:26:51.998576",
     "exception": false,
     "start_time": "2022-01-30T09:26:51.987910",
     "status": "completed"
    },
    "tags": []
   },
   "source": [
    "# Inference"
   ]
  },
  {
   "cell_type": "markdown",
   "id": "banned-strap",
   "metadata": {
    "papermill": {
     "duration": 0.01042,
     "end_time": "2022-01-30T09:26:52.019398",
     "exception": false,
     "start_time": "2022-01-30T09:26:52.008978",
     "status": "completed"
    },
    "tags": []
   },
   "source": [
    "## Deberta large att"
   ]
  },
  {
   "cell_type": "code",
   "execution_count": 7,
   "id": "white-telescope",
   "metadata": {
    "execution": {
     "iopub.execute_input": "2022-01-30T09:26:52.048301Z",
     "iopub.status.busy": "2022-01-30T09:26:52.047639Z",
     "iopub.status.idle": "2022-01-30T09:26:52.050463Z",
     "shell.execute_reply": "2022-01-30T09:26:52.050054Z"
    },
    "papermill": {
     "duration": 0.020497,
     "end_time": "2022-01-30T09:26:52.050568",
     "exception": false,
     "start_time": "2022-01-30T09:26:52.030071",
     "status": "completed"
    },
    "tags": []
   },
   "outputs": [],
   "source": [
    "class AttentionModel(nn.Module):\n",
    "    def __init__(self, path):\n",
    "        super().__init__()\n",
    "\n",
    "        config = AutoConfig.from_pretrained(ROBERTA_PATH)\n",
    "        config.update({\"output_hidden_states\":True, \n",
    "                       \"hidden_dropout_prob\": 0.0,\n",
    "                       \"layer_norm_eps\": 1e-7})                       \n",
    "        \n",
    "        self.roberta = AutoModel.from_pretrained(ROBERTA_PATH, config=config)  \n",
    "        #self.roberta.base_model.embeddings.requires_grad_(False)    \n",
    "        self.attention = nn.Sequential(            \n",
    "            nn.Linear(config.hidden_size, 512),            \n",
    "            nn.Tanh(),                       \n",
    "            nn.Linear(512, 1),\n",
    "            nn.Softmax(dim=1)\n",
    "        )        \n",
    "        self.fc = nn.Linear(config.hidden_size, 1)                        \n",
    "        \n",
    "    def forward(self, input_ids, attention_mask):\n",
    "        roberta_output = self.roberta(input_ids=input_ids,\n",
    "                                      attention_mask=attention_mask)        \n",
    "        last_layer_hidden_states = roberta_output.hidden_states[-1]\n",
    "        weights = self.attention(last_layer_hidden_states)\n",
    "\n",
    "        context_vector = torch.sum(weights * last_layer_hidden_states, dim=1)       \n",
    "        return self.fc(context_vector)"
   ]
  },
  {
   "cell_type": "code",
   "execution_count": 8,
   "id": "seasonal-washer",
   "metadata": {
    "execution": {
     "iopub.execute_input": "2022-01-30T09:26:52.077512Z",
     "iopub.status.busy": "2022-01-30T09:26:52.077023Z",
     "iopub.status.idle": "2022-01-30T10:45:09.358800Z",
     "shell.execute_reply": "2022-01-30T10:45:09.358323Z"
    },
    "papermill": {
     "duration": 4697.29755,
     "end_time": "2022-01-30T10:45:09.358939",
     "exception": false,
     "start_time": "2022-01-30T09:26:52.061389",
     "status": "completed"
    },
    "tags": []
   },
   "outputs": [
    {
     "name": "stdout",
     "output_type": "stream",
     "text": [
      "\n",
      "Using ../input/robertalargeatt-models/roberta_large_att_1.pth\n",
      "\n",
      "Using ../input/robertalargeatt-models/roberta_large_att_2.pth\n",
      "\n",
      "Using ../input/robertalargeatt-models/roberta_large_att_3.pth\n",
      "\n",
      "Using ../input/robertalargeatt-models/roberta_large_att_4.pth\n",
      "\n",
      "Using ../input/robertalargeatt-models/roberta_large_att_5.pth\n"
     ]
    }
   ],
   "source": [
    "TOKENIZER_PATH = ROBERTA_PATH = \"../input/roberta-transformers-pytorch/roberta-large\"\n",
    "tokenizer = AutoTokenizer.from_pretrained(TOKENIZER_PATH)\n",
    "all_predictions = np.zeros((5, len(test_df)))\n",
    "test_dataset = LitDataset(test_df, tokenizer=tokenizer)\n",
    "test_loader = DataLoader(test_dataset, batch_size=BATCH_SIZE, drop_last=False, shuffle=False, num_workers=2)\n",
    "\n",
    "for index in range(5):            \n",
    "    model_path = f\"../input/robertalargeatt-models/roberta_large_att_{index + 1}.pth\"\n",
    "    print(f\"\\nUsing {model_path}\")\n",
    "                        \n",
    "    model = AttentionModel(path=ROBERTA_PATH)\n",
    "    model.load_state_dict(torch.load(model_path))    \n",
    "    model.to(DEVICE)\n",
    "    \n",
    "    all_predictions[index] = predict(model, test_loader)\n",
    "    \n",
    "    del model\n",
    "    gc.collect()\n",
    "pred1 = all_predictions.mean(axis=0)"
   ]
  },
  {
   "cell_type": "markdown",
   "id": "irish-reserve",
   "metadata": {
    "papermill": {
     "duration": 0.011951,
     "end_time": "2022-01-30T10:45:09.383476",
     "exception": false,
     "start_time": "2022-01-30T10:45:09.371525",
     "status": "completed"
    },
    "tags": []
   },
   "source": [
    "## Roberta large cnn"
   ]
  },
  {
   "cell_type": "code",
   "execution_count": 9,
   "id": "legitimate-samoa",
   "metadata": {
    "execution": {
     "iopub.execute_input": "2022-01-30T10:45:09.416398Z",
     "iopub.status.busy": "2022-01-30T10:45:09.415652Z",
     "iopub.status.idle": "2022-01-30T10:45:09.418513Z",
     "shell.execute_reply": "2022-01-30T10:45:09.418100Z"
    },
    "papermill": {
     "duration": 0.023214,
     "end_time": "2022-01-30T10:45:09.418621",
     "exception": false,
     "start_time": "2022-01-30T10:45:09.395407",
     "status": "completed"
    },
    "tags": []
   },
   "outputs": [],
   "source": [
    "class CNNModel(nn.Module):\n",
    "    def __init__(self, path):\n",
    "        super().__init__()\n",
    "\n",
    "        config = AutoConfig.from_pretrained(ROBERTA_PATH)\n",
    "        config.update({\"output_hidden_states\":True, \n",
    "                \"hidden_dropout_prob\": 0.0,\n",
    "                'return_dict':True})                      \n",
    "        \n",
    "        self.roberta = AutoModel.from_pretrained(ROBERTA_PATH, config=config)\n",
    "            \n",
    "        self.conv1 = nn.Conv1d(config.hidden_size, 512, 3, stride=1, padding=1, dilation=1, groups=1, bias=True, padding_mode='zeros')\n",
    "        self.conv2 = nn.Conv1d(512, 1, 3, stride=1, padding=1, dilation=1, groups=1, bias=True, padding_mode='zeros')\n",
    "\n",
    "\n",
    "    def forward(self, input_ids, attention_mask):\n",
    "        output = self.roberta(input_ids=input_ids, attention_mask=attention_mask)        \n",
    "        hs = output.hidden_states\n",
    "        #x = hs[-2]\n",
    "        x = torch.stack(hs)\n",
    "        x = torch.mean(x, 0)\n",
    "        conv1_logits = self.conv1(x.transpose(1, 2))\n",
    "        conv2_logits = self.conv2(conv1_logits)\n",
    "        logits = conv2_logits.transpose(1, 2)\n",
    "        x = torch.mean(logits, 1)\n",
    "        return x"
   ]
  },
  {
   "cell_type": "code",
   "execution_count": 10,
   "id": "found-japanese",
   "metadata": {
    "execution": {
     "iopub.execute_input": "2022-01-30T10:45:09.448488Z",
     "iopub.status.busy": "2022-01-30T10:45:09.447960Z",
     "iopub.status.idle": "2022-01-30T12:27:23.134514Z",
     "shell.execute_reply": "2022-01-30T12:27:23.134939Z"
    },
    "papermill": {
     "duration": 6133.704433,
     "end_time": "2022-01-30T12:27:23.135169",
     "exception": false,
     "start_time": "2022-01-30T10:45:09.430736",
     "status": "completed"
    },
    "tags": []
   },
   "outputs": [
    {
     "name": "stdout",
     "output_type": "stream",
     "text": [
      "\n",
      "Using ../input/largecnn/deberta_large_cnn_1.pth\n",
      "\n",
      "Using ../input/largecnn/deberta_large_cnn_2.pth\n",
      "\n",
      "Using ../input/largecnn/deberta_large_cnn_3.pth\n",
      "\n",
      "Using ../input/largecnn/deberta_large_cnn_4.pth\n",
      "\n",
      "Using ../input/largecnn/deberta_large_cnn_5.pth\n"
     ]
    }
   ],
   "source": [
    "TOKENIZER_PATH = ROBERTA_PATH = \"../input/deberta/large\"\n",
    "tokenizer = AutoTokenizer.from_pretrained(TOKENIZER_PATH)\n",
    "all_predictions = np.zeros((5, len(test_df)))\n",
    "test_dataset = LitDataset(test_df, tokenizer=tokenizer)\n",
    "test_loader = DataLoader(test_dataset, batch_size=BATCH_SIZE, drop_last=False, shuffle=False, num_workers=2)\n",
    "\n",
    "for index in range(5):            \n",
    "    model_path = f\"../input/largecnn/deberta_large_cnn_{index + 1}.pth\"\n",
    "    print(f\"\\nUsing {model_path}\")\n",
    "                        \n",
    "    model = CNNModel(path=ROBERTA_PATH)\n",
    "    model.load_state_dict(torch.load(model_path))    \n",
    "    model.to(DEVICE)\n",
    "    \n",
    "    all_predictions[index] = predict(model, test_loader)\n",
    "    \n",
    "    del model\n",
    "    gc.collect()\n",
    "pred2 = all_predictions.mean(axis=0)"
   ]
  },
  {
   "cell_type": "markdown",
   "id": "matched-charles",
   "metadata": {
    "papermill": {
     "duration": 0.014196,
     "end_time": "2022-01-30T12:27:23.173892",
     "exception": false,
     "start_time": "2022-01-30T12:27:23.159696",
     "status": "completed"
    },
    "tags": []
   },
   "source": [
    "## Electra large cnn"
   ]
  },
  {
   "cell_type": "code",
   "execution_count": 11,
   "id": "common-parking",
   "metadata": {
    "execution": {
     "iopub.execute_input": "2022-01-30T12:27:23.232849Z",
     "iopub.status.busy": "2022-01-30T12:27:23.231791Z",
     "iopub.status.idle": "2022-01-30T13:46:29.709266Z",
     "shell.execute_reply": "2022-01-30T13:46:29.708686Z"
    },
    "papermill": {
     "duration": 4746.514457,
     "end_time": "2022-01-30T13:46:29.709431",
     "exception": false,
     "start_time": "2022-01-30T12:27:23.194974",
     "status": "completed"
    },
    "tags": []
   },
   "outputs": [
    {
     "name": "stdout",
     "output_type": "stream",
     "text": [
      "\n",
      "Using ../input/largecnn/electra_large_cnn_1.pth\n",
      "\n",
      "Using ../input/largecnn/electra_large_cnn_2.pth\n",
      "\n",
      "Using ../input/largecnn/electra_large_cnn_3.pth\n",
      "\n",
      "Using ../input/largecnn/electra_large_cnn_4.pth\n",
      "\n",
      "Using ../input/largecnn/electra_large_cnn_5.pth\n"
     ]
    }
   ],
   "source": [
    "TOKENIZER_PATH = ROBERTA_PATH = \"../input/electra/large-discriminator\"\n",
    "tokenizer = AutoTokenizer.from_pretrained(TOKENIZER_PATH)\n",
    "all_predictions = np.zeros((NUM_FOLDS, len(test_df)))\n",
    "test_dataset = LitDataset(test_df, tokenizer=tokenizer)\n",
    "test_loader = DataLoader(test_dataset, batch_size=BATCH_SIZE, drop_last=False, shuffle=False, num_workers=2)\n",
    "\n",
    "for index in range(NUM_FOLDS):            \n",
    "    model_path = f\"../input/largecnn/electra_large_cnn_{index + 1}.pth\"\n",
    "    print(f\"\\nUsing {model_path}\")\n",
    "                        \n",
    "    model = CNNModel(path=ROBERTA_PATH)\n",
    "    model.load_state_dict(torch.load(model_path))    \n",
    "    model.to(DEVICE)\n",
    "    \n",
    "    all_predictions[index] = predict(model, test_loader)\n",
    "    \n",
    "    del model\n",
    "    gc.collect()\n",
    "pred3 = all_predictions.mean(axis=0)"
   ]
  },
  {
   "cell_type": "code",
   "execution_count": 12,
   "id": "sitting-clause",
   "metadata": {
    "execution": {
     "iopub.execute_input": "2022-01-30T13:46:29.746795Z",
     "iopub.status.busy": "2022-01-30T13:46:29.746213Z",
     "iopub.status.idle": "2022-01-30T13:46:31.661315Z",
     "shell.execute_reply": "2022-01-30T13:46:31.660659Z"
    },
    "papermill": {
     "duration": 1.93515,
     "end_time": "2022-01-30T13:46:31.661449",
     "exception": false,
     "start_time": "2022-01-30T13:46:29.726299",
     "status": "completed"
    },
    "tags": []
   },
   "outputs": [],
   "source": [
    "test_df['score'] = (pred1+pred2+pred3)/3\n",
    "\n",
    "test_df.to_csv(\"less.csv\", index=False)"
   ]
  }
 ],
 "metadata": {
  "kernelspec": {
   "display_name": "Python 3",
   "language": "python",
   "name": "python3"
  },
  "language_info": {
   "codemirror_mode": {
    "name": "ipython",
    "version": 3
   },
   "file_extension": ".py",
   "mimetype": "text/x-python",
   "name": "python",
   "nbconvert_exporter": "python",
   "pygments_lexer": "ipython3",
   "version": "3.7.10"
  },
  "papermill": {
   "default_parameters": {},
   "duration": 15597.697181,
   "end_time": "2022-01-30T13:46:35.421581",
   "environment_variables": {},
   "exception": null,
   "input_path": "__notebook__.ipynb",
   "output_path": "__notebook__.ipynb",
   "parameters": {},
   "start_time": "2022-01-30T09:26:37.724400",
   "version": "2.3.3"
  }
 },
 "nbformat": 4,
 "nbformat_minor": 5
}
